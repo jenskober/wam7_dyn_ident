{
 "cells": [
  {
   "cell_type": "markdown",
   "metadata": {},
   "source": [
    "Experimental Identification of Physically Feasible Dynamic Parameters of the 7-link WAM™ Robot using LMI–SDP Techniques\n",
    "=======================================================================================================================\n",
    "\n",
    "[![DOI](https://zenodo.org/badge/920/cdsousa/wam7_dyn_ident.png)](http://dx.doi.org/10.5281/zenodo.10537)\n",
    "\n",
    "*Experimental code and data associated with the paper:*\n",
    "\n",
    "**Cristóvão D. Sousa and Rui Cortesão, \"Physical feasibility of robot base inertial parameter identification: A linear matrix inequality approach,\" The International Journal of Robotics Research, vol. 33, no. 6, pp. 931–944, May. 2014, doi: [10.1177/0278364913514870](http://dx.doi.org/10.1177/0278364913514870)**\n",
    "\n",
    "[Postprint availabe from ResearchGate](http://www.researchgate.net/publication/262483999_Physical_feasibility_of_robot_base_inertial_parameter_identification_A_linear_matrix_inequality_approach)\n",
    "\n",
    "------------------------\n",
    "\n",
    "\n",
    "Authors\n",
    "-------\n",
    "\n",
    "- Cristóvão D. Sousa, [crisjss@gmail.com](mailto:crisjss@gmail.com)\n",
    "- Rui Cortesão, [cortesao@isr.uc.pt](mailto:cortesao@isr.uc.pt)\n",
    "\n",
    "------------------------\n",
    "\n",
    "\n",
    "Research Notebook\n",
    "-----------------\n",
    "\n",
    "The research is done in [Python](http://www.python.org/) within an [IPython notebook](http://ipython.org/notebook.html) (the *WAM7 Dynamic Parameter Identification.ipynb* file).\n",
    "Data is in *data* folder. Additional Python support code is in *support_funcs* folder.\n",
    "\n",
    "The file *WAM7 Dynamic Parameter Identification.html* is a **preview** of the notebook. **It can be seen online at:**\n",
    "\n",
    "**[Experimental WAM Robot Dynamic Identification with LMI](http://goo.gl/dOPj8j)**\n",
    "\n",
    "\n",
    "\n",
    "How to run the code\n",
    "-------------------\n",
    "\n",
    "- clone the git repository (it contains code and data) from https://github.com/cdsousa/wam7_dyn_ident\n",
    "- open the *WAM7 Dynamic Parameter Identification.ipynb* notebook with [IPython](http://ipython.org/)\n",
    "- edit and run the code\n",
    "\n",
    "Dependencies:\n",
    "\n",
    "- [Python](http://www.python.org/)\n",
    "- [IPython](http://ipython.org/)\n",
    "- [SymPy](http://sympy.org/)\n",
    "- [Numpy](http://www.numpy.org/)\n",
    "- [SciPy](http://www.scipy.org/)\n",
    "- [SymPyBotics](https://github.com/cdsousa/SymPyBotics)\n",
    "- [PyLMI-SDP](https://github.com/cdsousa/PyLMI-SDP)\n",
    "\n",
    "------------------------\n",
    "\n",
    "\n",
    "Questions & Feedback\n",
    "--------------------\n",
    "\n",
    "Feel free to contact the authors at [crisjss@gmail.com](mailto:crisjss@gmail.com)\n",
    "\n",
    "------------------------\n",
    "\n",
    "\n",
    "License\n",
    "-------\n",
    "\n",
    "Copyright (c) 2013, Cristóvão Duarte Sousa, Rui Cortesão\n",
    "\n",
    "All rights reserved.\n",
    "\n",
    "[![Creative Commons License](http://i.creativecommons.org/l/by-nc-sa/4.0/88x31.png)](http://creativecommons.org/licenses/by-nc-sa/4.0/)\n",
    "This work is licensed under a [Creative Commons Attribution-NonCommercial-ShareAlike 4.0 International License](http://creativecommons.org/licenses/by-nc-sa/4.0/)\n"
   ]
  },
  {
   "cell_type": "markdown",
   "metadata": {},
   "source": [
    "---------------\n",
    "\n",
    "---------------\n",
    "\n",
    "---------------\n",
    "\n",
    "---------------"
   ]
  },
  {
   "cell_type": "markdown",
   "metadata": {},
   "source": [
    "# Initializations"
   ]
  },
  {
   "cell_type": "code",
   "execution_count": null,
   "metadata": {},
   "outputs": [],
   "source": [
    "datafolder = 'data/'\n",
    "tmpfolder = 'tmp/'"
   ]
  },
  {
   "cell_type": "code",
   "execution_count": null,
   "metadata": {},
   "outputs": [],
   "source": [
    "from sympy import init_printing\n",
    "init_printing()\n",
    "\n",
    "%pylab inline"
   ]
  },
  {
   "cell_type": "markdown",
   "metadata": {},
   "source": [
    "1 - Robot Model\n",
    "==============="
   ]
  },
  {
   "cell_type": "code",
   "execution_count": null,
   "metadata": {},
   "outputs": [],
   "source": [
    "import sympybotics"
   ]
  },
  {
   "cell_type": "code",
   "execution_count": null,
   "metadata": {},
   "outputs": [],
   "source": [
    "from pathlib import Path\n",
    "rbt_saved = Path(tmpfolder + 'robotmodels/wam7_model.pkl').exists()"
   ]
  },
  {
   "cell_type": "markdown",
   "metadata": {},
   "source": [
    "#### Robot Definition"
   ]
  },
  {
   "cell_type": "code",
   "execution_count": null,
   "metadata": {},
   "outputs": [],
   "source": [
    "if not rbt_saved:\n",
    "    rbtdef = sympybotics.RobotDef(\"WAM Arm 7 DOF\",\n",
    "                [(\"-pi/2\", 0, 0, \"q\"),\n",
    "                 (\"pi/2\", 0, 0, \"q\"),\n",
    "                 (\"-pi/2\", 0.045, 0.55, \"q\"),\n",
    "                 (\"pi/2\", -0.045, 0, \"q\"),\n",
    "                 (\"-pi/2\", 0, 0.3, \"q\"),\n",
    "                 (\"pi/2\", 0, 0, \"q\"),\n",
    "                 (0, 0, 0.06, \"q\")],\n",
    "                dh_convention=\"standard\")\n",
    "\n",
    "    rbtdef.frictionmodel = {'Coulomb', 'viscous', 'offset'}\n",
    "    rbtdef.driveinertiamodel = 'simplified'"
   ]
  },
  {
   "cell_type": "markdown",
   "metadata": {},
   "source": [
    "#### Model Generation"
   ]
  },
  {
   "cell_type": "code",
   "execution_count": null,
   "metadata": {},
   "outputs": [],
   "source": [
    "if not rbt_saved:\n",
    "    %time rbt = sympybotics.RobotDynCode(rbtdef)\n",
    "    %time rbt.calc_base_parms()"
   ]
  },
  {
   "cell_type": "code",
   "execution_count": null,
   "metadata": {},
   "outputs": [],
   "source": [
    "if not rbt_saved:\n",
    "    import pickle\n",
    "    Path(tmpfolder + 'robotmodels').mkdir(parents=True, exist_ok=True)\n",
    "\n",
    "    with open(tmpfolder + 'robotmodels/wam7_model.pkl', 'wb') as file:\n",
    "        pickle.dump( rbt, file )"
   ]
  },
  {
   "cell_type": "markdown",
   "metadata": {},
   "source": [
    "## Base Dynamic Parameters"
   ]
  },
  {
   "cell_type": "code",
   "execution_count": null,
   "metadata": {},
   "outputs": [],
   "source": [
    "import pickle\n",
    "with open(tmpfolder +  'robotmodels/wam7_model.pkl', 'rb' ) as file:\n",
    "          rbt = pickle.load( file )"
   ]
  },
  {
   "cell_type": "code",
   "execution_count": null,
   "metadata": {},
   "outputs": [],
   "source": [
    "rbt.dyn.n_dynparms, rbt.dyn.n_base"
   ]
  },
  {
   "cell_type": "code",
   "execution_count": null,
   "metadata": {},
   "outputs": [],
   "source": [
    "rbt.dyn.baseparms.n()"
   ]
  },
  {
   "cell_type": "markdown",
   "metadata": {},
   "source": [
    "2 - Trajectories and Recorded Data\n",
    "=================================="
   ]
  },
  {
   "cell_type": "code",
   "execution_count": null,
   "metadata": {},
   "outputs": [],
   "source": [
    "import pickle\n",
    "import sympybotics\n",
    "import numpy"
   ]
  },
  {
   "cell_type": "code",
   "execution_count": null,
   "metadata": {},
   "outputs": [],
   "source": [
    "with open(tmpfolder +  'robotmodels/wam7_model.pkl', 'rb' ) as file:\n",
    "          rbt = pickle.load( file )"
   ]
  },
  {
   "cell_type": "markdown",
   "metadata": {},
   "source": [
    "### Plots"
   ]
  },
  {
   "cell_type": "code",
   "execution_count": null,
   "metadata": {},
   "outputs": [],
   "source": [
    "parms_traj = 'traj1'\n",
    "\n",
    "with open(datafolder +  'trajectories/%s_shwfl_abq0.pkl'%parms_traj, 'rb' ) as file:\n",
    "    s_h_wf_l, a_b_q0 = pickle.loads(file.read().replace(b'\\r\\n', b'\\n'), encoding='latin1')"
   ]
  },
  {
   "cell_type": "code",
   "execution_count": null,
   "metadata": {},
   "outputs": [],
   "source": [
    "h = 0.001\n",
    "decimate = 10\n",
    "h_plot = h*decimate\n",
    "\n",
    "with open(datafolder +  'trajectories/%s.dat'%parms_traj, 'r' ) as file:\n",
    "          q_ref_orig = numpy.loadtxt(file)\n",
    "s = round(q_ref_orig.shape[0] / decimate)\n",
    "\n",
    "q_ref = numpy.zeros((s, rbt.dof))\n",
    "for i in range(s):\n",
    "    q_ref[i, :] = q_ref_orig[i*decimate, :]"
   ]
  },
  {
   "cell_type": "code",
   "execution_count": null,
   "metadata": {},
   "outputs": [],
   "source": [
    "si = round(1/h_plot)\n",
    "sf = round(si + 20/h_plot)\n",
    "t = numpy.arange(sf-si) * h_plot"
   ]
  },
  {
   "cell_type": "code",
   "execution_count": null,
   "metadata": {},
   "outputs": [],
   "source": [
    "from matplotlib import pyplot as plt\n",
    "plt.close()\n",
    "\n",
    "for i in range(rbt.dof):\n",
    "    plt.plot(t,q_ref[si:sf,i], label=\"$q_%d$\"%(i+1))\n",
    "plt.legend()\n",
    "\n",
    "plt.xlabel(\"Time (s)\")\n",
    "plt.ylabel(\"Joint positions (rad)\")\n",
    "\n",
    "plt.show()"
   ]
  },
  {
   "cell_type": "markdown",
   "metadata": {},
   "source": [
    "3 - Regression Data Processing\n",
    "=============================="
   ]
  },
  {
   "cell_type": "code",
   "execution_count": null,
   "metadata": {},
   "outputs": [],
   "source": [
    "import os\n",
    "import pickle\n",
    "import math\n",
    "import sympy\n",
    "import numpy\n",
    "import sympybotics\n",
    "from pathlib import Path"
   ]
  },
  {
   "cell_type": "code",
   "execution_count": null,
   "metadata": {},
   "outputs": [],
   "source": [
    "with open(tmpfolder +  'robotmodels/wam7_model.pkl', 'rb' ) as file:\n",
    "    rbt = pickle.load(file)"
   ]
  },
  {
   "cell_type": "markdown",
   "metadata": {},
   "source": [
    "### Data Load"
   ]
  },
  {
   "cell_type": "code",
   "execution_count": null,
   "metadata": {},
   "outputs": [],
   "source": [
    "parms_traj = 'traj1'"
   ]
  },
  {
   "cell_type": "code",
   "execution_count": null,
   "metadata": {},
   "outputs": [],
   "source": [
    "from support_funcs.regr_data_proc import read_data\n",
    "t_raw, q_raw, tau_raw, t_ref, q_ref = read_data(rbt.dof, 0.001,\n",
    "                                                datafolder + 'recdata/rbtlog_%s.dat'%parms_traj,\n",
    "                                                datafolder + 'trajectories/traj1.dat')"
   ]
  },
  {
   "cell_type": "markdown",
   "metadata": {},
   "source": [
    "### Some Plots"
   ]
  },
  {
   "cell_type": "code",
   "execution_count": null,
   "metadata": {},
   "outputs": [],
   "source": [
    "from matplotlib import pyplot as plt\n",
    "plt.close()\n",
    "\n",
    "for i in range(q_raw.shape[1]):\n",
    "    plt.plot(t_raw,q_raw[:,i])\n",
    "\n",
    "plt.show()"
   ]
  },
  {
   "cell_type": "code",
   "execution_count": null,
   "metadata": {},
   "outputs": [],
   "source": [
    "from matplotlib import pyplot as plt\n",
    "plt.close()\n",
    "\n",
    "joint = 7\n",
    "plt.plot(t_ref+0.20,q_ref[:,joint-1])\n",
    "plt.plot(t_raw,q_raw[:,joint-1])\n",
    "\n",
    "plt.show()"
   ]
  },
  {
   "cell_type": "code",
   "execution_count": null,
   "metadata": {},
   "outputs": [],
   "source": [
    "del t_raw, q_raw, tau_raw, t_ref, q_ref"
   ]
  },
  {
   "cell_type": "markdown",
   "metadata": {},
   "source": [
    "### Parameter Load"
   ]
  },
  {
   "cell_type": "code",
   "execution_count": null,
   "metadata": {},
   "outputs": [],
   "source": [
    "with open(datafolder +  'trajectories/%s_shwfl_abq0.pkl'%parms_traj, 'rb' ) as file:\n",
    "    s_h_wf_l, a_b_q0 = pickle.loads(file.read().replace(b'\\r\\n', b'\\n'), encoding='latin1')\n",
    "\n",
    "print(dict(zip(('S', 'h', 'wf', 'L'), s_h_wf_l)))\n",
    "print('\\n')"
   ]
  },
  {
   "cell_type": "markdown",
   "metadata": {},
   "source": [
    "### Filter Cut-off Frequency Definition"
   ]
  },
  {
   "cell_type": "code",
   "execution_count": null,
   "metadata": {},
   "outputs": [],
   "source": [
    "fc_mult = 10"
   ]
  },
  {
   "cell_type": "code",
   "execution_count": null,
   "metadata": {},
   "outputs": [],
   "source": [
    "wf = float(s_h_wf_l[2])\n",
    "L = float(s_h_wf_l[3])\n",
    "fc = fc_mult * ( wf / (2*math.pi) * L )\n",
    "fc"
   ]
  },
  {
   "cell_type": "code",
   "execution_count": null,
   "metadata": {},
   "outputs": [],
   "source": [
    "fc_q = fc\n",
    "fc_dq = fc\n",
    "fc_ddq = fc\n",
    "\n",
    "fc_tau = float('Inf')  # fc\n",
    "\n",
    "si = int(3/0.001)\n",
    "sf = -int(1/0.001)"
   ]
  },
  {
   "cell_type": "markdown",
   "metadata": {},
   "source": [
    "### Data Filtering, Differentiation and Regression Data Generation"
   ]
  },
  {
   "cell_type": "code",
   "execution_count": null,
   "metadata": {},
   "outputs": [],
   "source": [
    "rec_h = 0.001"
   ]
  },
  {
   "cell_type": "code",
   "execution_count": null,
   "metadata": {},
   "outputs": [],
   "source": [
    "from support_funcs.regr_data_proc import read_data, diff_and_filt_data, gen_regr_matrices\n",
    "\n",
    "def process_regression_data(traj_name):\n",
    "    t_raw, q_raw, tau_raw, t_ref, q_ref = read_data(dof=rbt.dof, h=rec_h,\n",
    "                                                    rbtlogfile=datafolder + 'recdata/rbtlog_%s.dat'%traj_name,\n",
    "                                                    trajreffile=datafolder + 'trajectories/%s.dat'%traj_name)\n",
    "    \n",
    "    q, dq, ddq, tau = diff_and_filt_data(dof=rbt.dof, h=rec_h,  q_raw=q_raw, tau_raw=tau_raw,\n",
    "                                   fc_q=fc_q, fc_dq=fc_dq, fc_ddq=fc_ddq, fc_tau=fc_tau)\n",
    "    \n",
    "    t_raw = t_raw[si:sf]; q_raw = q_raw[si:sf]; tau_raw = tau_raw[si:sf]\n",
    "    q = q[si:sf]; dq = dq[si:sf]; ddq = ddq[si:sf]; tau = tau[si:sf]\n",
    "    \n",
    "    t_raw = t_raw - t_raw[0]\n",
    "    \n",
    "    t = numpy.array(range(q.shape[0])) * rec_h\n",
    "    \n",
    "    W, omega, Q1, R1, rho1 = gen_regr_matrices(rbt, q, dq, ddq, tau)\n",
    "    \n",
    "    return t_raw, q_raw, tau_raw, t, q, dq, ddq, tau, W, omega, Q1, R1, rho1"
   ]
  },
  {
   "cell_type": "code",
   "execution_count": null,
   "metadata": {},
   "outputs": [],
   "source": [
    "def proc_data_saved(tmpfolder, traj):\n",
    "    raw_saved = Path(tmpfolder + 'procdata/' + traj + '_raw.npz').exists()\n",
    "    proc_saved = Path(tmpfolder + 'procdata/' + traj + '_proc.npz').exists()\n",
    "    regr_saved = Path(tmpfolder + 'procdata/' + traj + '_regr.npz').exists()\n",
    "    return (raw_saved and proc_saved and regr_saved)"
   ]
  },
  {
   "cell_type": "code",
   "execution_count": null,
   "metadata": {},
   "outputs": [],
   "source": [
    "Path(tmpfolder + 'procdata').mkdir(parents=True, exist_ok=True)"
   ]
  },
  {
   "cell_type": "code",
   "execution_count": null,
   "metadata": {},
   "outputs": [],
   "source": [
    "from support_funcs.utils import _fprint\n",
    "\n",
    "for traj in ['traj1', 'traj2', 'traj3', 'traj4']:\n",
    "    if not proc_data_saved(tmpfolder, traj):\n",
    "        _fprint('>>>>>>>> %s proc <<<<<<<<<'%traj)\n",
    "        %time t_raw, q_raw, tau_raw, t, q, dq, ddq, tau, W, omega, Q1, R1, rho1 = process_regression_data(traj)\n",
    "\n",
    "        _fprint(' (cond=%f)'%numpy.linalg.cond(W))\n",
    "\n",
    "        _fprint('%s save'%traj)\n",
    "\n",
    "        %time \\\n",
    "        numpy.savez_compressed(tmpfolder + 'procdata/' + traj + '_raw', t=t_raw, q=q_raw, tau=tau_raw);\\\n",
    "        numpy.savez_compressed(tmpfolder + 'procdata/' + traj + '_proc', t=t, q=q, dq=dq, ddq=ddq, tau=tau); \\\n",
    "        numpy.savez_compressed(tmpfolder + 'procdata/' + traj + '_regr', W=W, omega=omega, Q1=Q1, R1=R1, rho1=rho1)\n",
    "\n",
    "        del t_raw, q_raw, tau_raw, t, q, dq, ddq, tau, W, omega, Q1, R1, rho1\n",
    "    else:\n",
    "        _fprint('>>>>>>>> %s already saved <<<<<<<<<'%traj)"
   ]
  },
  {
   "cell_type": "markdown",
   "metadata": {},
   "source": [
    "### Plot"
   ]
  },
  {
   "cell_type": "code",
   "execution_count": null,
   "metadata": {},
   "outputs": [],
   "source": [
    "raw = numpy.load(tmpfolder + 'procdata/traj1_raw.npz')\n",
    "tau_raw = raw['tau']\n",
    "q_raw = raw['q']\n",
    "del raw\n",
    "proc = numpy.load(tmpfolder + 'procdata/traj1_proc.npz')\n",
    "t = proc['t']\n",
    "tau = proc['tau']\n",
    "q = proc['q']\n",
    "dq = proc['dq']\n",
    "del proc"
   ]
  },
  {
   "cell_type": "code",
   "execution_count": null,
   "metadata": {},
   "outputs": [],
   "source": [
    "from matplotlib import pyplot as plt\n",
    "plt.close()\n",
    "\n",
    "joint = 1\n",
    "firsts = 20000\n",
    "plt.plot(t[:firsts],q_raw[:,joint-1][:firsts])\n",
    "#plt.plot(t[:firsts],q[:,joint-1][:firsts])\n",
    "#plt.plot(t[:firsts],dq[:,joint-1][:firsts])\n",
    "plt.plot(t[:firsts],tau_raw[:,joint-1][:firsts])\n",
    "\n",
    "plt.show()"
   ]
  },
  {
   "cell_type": "code",
   "execution_count": null,
   "metadata": {},
   "outputs": [],
   "source": [
    "del t, q, dq, tau, q_raw, tau_raw"
   ]
  },
  {
   "cell_type": "markdown",
   "metadata": {},
   "source": [
    "4 - Dynamic Parameter Estimation\n",
    "================================"
   ]
  },
  {
   "cell_type": "code",
   "execution_count": null,
   "metadata": {},
   "outputs": [],
   "source": [
    "import os\n",
    "import pickle\n",
    "import sympy\n",
    "import numpy\n",
    "import time\n",
    "from pathlib import Path\n",
    "\n",
    "import sympybotics\n",
    "import lmi_sdp\n",
    "\n",
    "from lmi_sdp import init_lmi_latex_printing\n",
    "init_lmi_latex_printing()"
   ]
  },
  {
   "cell_type": "code",
   "execution_count": null,
   "metadata": {},
   "outputs": [],
   "source": [
    "with open(tmpfolder +  'robotmodels/wam7_model.pkl', 'rb' ) as file:\n",
    "    rbt = pickle.load( file )"
   ]
  },
  {
   "cell_type": "code",
   "execution_count": null,
   "metadata": {},
   "outputs": [],
   "source": [
    "epsilon_safemargin = 1e-6\n",
    "epsilon_sdptol = 1e-7"
   ]
  },
  {
   "cell_type": "markdown",
   "metadata": {},
   "source": [
    "## LMI Matrix Definitions"
   ]
  },
  {
   "cell_type": "code",
   "execution_count": null,
   "metadata": {},
   "outputs": [],
   "source": [
    "dof = rbt.dof\n",
    "\n",
    "delta = rbt.dyn.dynparms\n",
    "n_delta = rbt.dyn.n_dynparms\n",
    "\n",
    "beta = rbt.dyn.baseparms.n()\n",
    "n_beta = rbt.dyn.n_base\n",
    "beta_symbs = sympy.Matrix([sympy.Symbol('beta'+str(i+1),real=True) for i in range(n_beta)])\n",
    "\n",
    "delta_d = (rbt.dyn.Pd.T*delta)\n",
    "n_delta_d = len(delta_d)\n",
    "\n",
    "Pb = rbt.dyn.Pb\n",
    "\n",
    "varchange_dict = dict(zip(Pb.T*delta ,  beta_symbs - ( beta - Pb.T*delta )))"
   ]
  },
  {
   "cell_type": "code",
   "execution_count": null,
   "metadata": {},
   "outputs": [],
   "source": [
    "from support_funcs.utils import skew, mrepl\n",
    "from sympy import BlockMatrix, Matrix, eye, Identity\n",
    "I = Identity\n",
    "S = skew"
   ]
  },
  {
   "cell_type": "code",
   "execution_count": null,
   "metadata": {},
   "outputs": [],
   "source": [
    "D_inertia_blocks = []\n",
    "for i in range(dof):\n",
    "    L = rbt.rbtdef.L[i]\n",
    "    l = rbt.rbtdef.l[i]\n",
    "    m = rbt.rbtdef.m[i]\n",
    "    Di = BlockMatrix([[L,    S(l).T],\n",
    "                      [S(l), I(3)*m]])\n",
    "    D_inertia_blocks.append(Di.as_explicit())"
   ]
  },
  {
   "cell_type": "code",
   "execution_count": null,
   "metadata": {},
   "outputs": [],
   "source": [
    "D_inertia_blocks[0]"
   ]
  },
  {
   "cell_type": "code",
   "execution_count": null,
   "metadata": {},
   "outputs": [],
   "source": [
    "D_other_blocks = []\n",
    "for i in range(dof):\n",
    "    if rbt.rbtdef.driveinertiamodel == 'simplified':\n",
    "        D_other_blocks.append( Matrix([rbt.rbtdef.Ia[i]]) )\n",
    "    if 'viscous' in rbt.rbtdef.frictionmodel:\n",
    "        D_other_blocks.append( Matrix([rbt.rbtdef.fv[i]]) )\n",
    "    if 'Coulomb' in rbt.rbtdef.frictionmodel:\n",
    "        D_other_blocks.append( Matrix([rbt.rbtdef.fc[i]]) )"
   ]
  },
  {
   "cell_type": "code",
   "execution_count": null,
   "metadata": {},
   "outputs": [],
   "source": [
    "D_blocks = D_inertia_blocks + D_other_blocks"
   ]
  },
  {
   "cell_type": "code",
   "execution_count": null,
   "metadata": {},
   "outputs": [],
   "source": [
    "D_blocks"
   ]
  },
  {
   "cell_type": "markdown",
   "metadata": {},
   "source": [
    "## Change of Variable Space"
   ]
  },
  {
   "cell_type": "code",
   "execution_count": null,
   "metadata": {},
   "outputs": [],
   "source": [
    "varchange_dict = dict(zip(Pb.T*delta ,  beta_symbs - ( beta - Pb.T*delta )))"
   ]
  },
  {
   "cell_type": "code",
   "execution_count": null,
   "metadata": {},
   "outputs": [],
   "source": [
    "DB_blocks = [mrepl(Di, varchange_dict) for Di in D_blocks]"
   ]
  },
  {
   "cell_type": "markdown",
   "metadata": {},
   "source": [
    "## LMI Definitions"
   ]
  },
  {
   "cell_type": "code",
   "execution_count": null,
   "metadata": {},
   "outputs": [],
   "source": [
    "from lmi_sdp import LMI_PD, LMI"
   ]
  },
  {
   "cell_type": "code",
   "execution_count": null,
   "metadata": {},
   "outputs": [],
   "source": [
    "DB_LMIs = list(map(LMI_PD, DB_blocks))"
   ]
  },
  {
   "cell_type": "code",
   "execution_count": null,
   "metadata": {},
   "outputs": [],
   "source": [
    "DB_LMIs[0]"
   ]
  },
  {
   "cell_type": "code",
   "execution_count": null,
   "metadata": {},
   "outputs": [],
   "source": [
    "DB_LMIs_marg = list(map(lambda lm: LMI(lm, epsilon_safemargin*eye(lm.shape[0])) , DB_blocks))"
   ]
  },
  {
   "cell_type": "code",
   "execution_count": null,
   "metadata": {},
   "outputs": [],
   "source": [
    "DB_LMIs_marg[0]"
   ]
  },
  {
   "cell_type": "code",
   "execution_count": null,
   "metadata": {},
   "outputs": [],
   "source": [
    "DB_LMIs_marg[0].canonical()"
   ]
  },
  {
   "cell_type": "markdown",
   "metadata": {},
   "source": [
    "## SDP Solver Interfaces"
   ]
  },
  {
   "cell_type": "markdown",
   "metadata": {},
   "source": [
    "### [SDPA](http://sdpa.sourceforge.net/)"
   ]
  },
  {
   "cell_type": "code",
   "execution_count": null,
   "metadata": {},
   "outputs": [],
   "source": [
    "def sdpa(objf, lmis, variables):\n",
    "    sdpadat = lmi_sdp.to_sdpa_sparse(objf, lmis, variables)\n",
    "    with open(tmpfolder + 'sdpa_dat/sdp.dat-s', 'w') as f:\n",
    "        f.write(sdpadat)\n",
    "    \n",
    "    stdout = !sdpa -ds \"$tmpfolder\"sdpa_dat/sdp.dat-s -o \"$tmpfolder\"sdpa_dat/sdpa.out -p \"$tmpfolder\"sdpa_dat/param.sdpa -pt 2\n",
    "    print('\\n'.join(stdout))\n",
    "\n",
    "    try:\n",
    "        outfile = open(tmpfolder+'sdpa_dat/sdpa.out', 'r').read().splitlines()\n",
    "        sol = [float(v) for v in outfile[outfile.index('xVec = ') + 1].replace('{', '').replace('}', '').split(',')]\n",
    "        return numpy.matrix(sol).T\n",
    "    except:\n",
    "        return"
   ]
  },
  {
   "cell_type": "markdown",
   "metadata": {},
   "source": [
    "### [CSDP](https://github.com/coin-or/Csdp/wiki)"
   ]
  },
  {
   "cell_type": "code",
   "execution_count": null,
   "metadata": {},
   "outputs": [],
   "source": [
    "def csdp(objf, lmis, variables):\n",
    "    sdpadat = lmi_sdp.to_sdpa_sparse(objf, lmis, variables)\n",
    "    with open(tmpfolder + 'sdpa_dat/sdp.dat-s', 'w') as f:\n",
    "        f.write(sdpadat)\n",
    "    \n",
    "    stdout = !csdp \"$tmpfolder\"sdpa_dat/sdp.dat-s \"$tmpfolder\"sdpa_dat/csdp.out\n",
    "    print('\\n'.join(stdout))\n",
    "\n",
    "    try:\n",
    "        outfile = open(tmpfolder+'sdpa_dat/csdp.out', 'r').read().splitlines()\n",
    "        sol = [float(v) for v in outfile[0].split()]\n",
    "        return numpy.matrix(sol).T\n",
    "    except:\n",
    "        return"
   ]
  },
  {
   "cell_type": "markdown",
   "metadata": {},
   "source": [
    "### [DSDP5](https://www.mcs.anl.gov/hs/software/DSDP/)\n",
    "[https://doi.org/10.1145/1356052.1356057](https://doi.org/10.1145/1356052.1356057)"
   ]
  },
  {
   "cell_type": "code",
   "execution_count": null,
   "metadata": {},
   "outputs": [],
   "source": [
    "def dsdp5(objf, lmis, variables):\n",
    "    sdpadat = lmi_sdp.to_sdpa_sparse(objf, lmis, variables)\n",
    "    with open(tmpfolder + 'sdpa_dat/sdp.dat-s', 'w') as f:\n",
    "        f.write(sdpadat)\n",
    "    \n",
    "    stdout = !dsdp5 \"$tmpfolder\"sdpa_dat/sdp.dat-s -save \"$tmpfolder\"sdpa_dat/dsdp5.out -gaptol $epsilon_sdptol\n",
    "    print('\\n'.join(stdout))\n",
    "\n",
    "    try:\n",
    "        outfile = open(tmpfolder+'sdpa_dat/dsdp5.out', 'r').read().splitlines()\n",
    "        sol = [float(v) for v in outfile[0].split()]\n",
    "        return numpy.matrix(sol).T\n",
    "    except:\n",
    "        return"
   ]
  },
  {
   "cell_type": "markdown",
   "metadata": {},
   "source": [
    "### [DSDP5 through CVXOPT](https://cvxopt.org/userguide/coneprog.html#cvxopt.solvers.sdp)"
   ]
  },
  {
   "cell_type": "code",
   "execution_count": null,
   "metadata": {},
   "outputs": [],
   "source": [
    "def cvxopt_dsdp5(objf, lmis, variables):\n",
    "    import cvxopt.solvers\n",
    "    c, Gs, hs = lmi_sdp.to_cvxopt(objf, lmis, variables)\n",
    "    cvxopt.solvers.options['DSDP_GapTolerance'] = epsilon_sdptol\n",
    "    tic = time.time()\n",
    "    sdpout = cvxopt.solvers.sdp(c, Gs=Gs, hs=hs, solver='dsdp')\n",
    "    toc = time.time()\n",
    "    print(sdpout['status'], ('ATT!: \\'optimal\\' does not necessarily mean feasible'))\n",
    "    print('Elapsed time: %.2f s'%(toc-tic))\n",
    "    return numpy.matrix(sdpout['x'])"
   ]
  },
  {
   "cell_type": "markdown",
   "metadata": {},
   "source": [
    "### [CVXOPT CONELP](https://cvxopt.org/userguide/coneprog.html#cvxopt.solvers.sdp)"
   ]
  },
  {
   "cell_type": "code",
   "execution_count": null,
   "metadata": {},
   "outputs": [],
   "source": [
    "def cvxopt_conelp(objf, lmis, variables):\n",
    "    import cvxopt.solvers\n",
    "    c, Gs, hs = lmi_sdp.to_cvxopt(objf, lmis, variables)\n",
    "    cvxopt.solvers.options['feastol'] = epsilon_sdptol\n",
    "    tic = time.time()\n",
    "    sdpout = cvxopt.solvers.sdp(c, Gs=Gs, hs=hs)\n",
    "    toc = time.time()\n",
    "    print(sdpout['status'])\n",
    "    print('Elapsed time: %.2f s'%(toc-tic))\n",
    "    return numpy.matrix(sdpout['x'])"
   ]
  },
  {
   "cell_type": "markdown",
   "metadata": {},
   "source": [
    "### [Raw SDPA file](http://plato.asu.edu/ftp/sdpa_format.txt)\n",
    "\n",
    "Can be solved online with a *Semidefinite Programming* solver at [NEOS Solvers](http://www.neos-server.org/neos/solvers/index.html)"
   ]
  },
  {
   "cell_type": "code",
   "execution_count": null,
   "metadata": {},
   "outputs": [],
   "source": [
    "def sdpa_file(objf, lmis, variables):\n",
    "    sdpadat = lmi_sdp.to_sdpa_sparse(objf, lmis, variables)\n",
    "    with open(tmpfolder + 'sdpa_dat/sdpa_input.dat-s', 'w') as f:\n",
    "        f.write(sdpadat)\n",
    "        \n",
    "    print(\"SDPA file saved at: %ssdpa_dat/sdpa_input.dat-s\"%tmpfolder)"
   ]
  },
  {
   "cell_type": "markdown",
   "metadata": {},
   "source": [
    "--------------"
   ]
  },
  {
   "cell_type": "markdown",
   "metadata": {},
   "source": [
    "Setting the default SDP solver:"
   ]
  },
  {
   "cell_type": "code",
   "execution_count": null,
   "metadata": {},
   "outputs": [],
   "source": [
    "solve_sdp = cvxopt_dsdp5"
   ]
  },
  {
   "cell_type": "markdown",
   "metadata": {},
   "source": [
    "## OLS Regression ($\\hat{\\beta}$)"
   ]
  },
  {
   "cell_type": "code",
   "execution_count": null,
   "metadata": {},
   "outputs": [],
   "source": [
    "indentification_traj = 'traj1'"
   ]
  },
  {
   "cell_type": "code",
   "execution_count": null,
   "metadata": {},
   "outputs": [],
   "source": [
    "regr_mats = numpy.load(tmpfolder + 'procdata/' + indentification_traj + '_regr.npz')\n",
    "W = numpy.matrix(regr_mats['W'])\n",
    "omega = numpy.matrix(regr_mats['omega'])\n",
    "R1 = numpy.matrix(regr_mats['R1'])\n",
    "rho1 = numpy.matrix(regr_mats['rho1'])"
   ]
  },
  {
   "cell_type": "code",
   "execution_count": null,
   "metadata": {},
   "outputs": [],
   "source": [
    "omega.shape[0] / rbt.dof"
   ]
  },
  {
   "cell_type": "code",
   "execution_count": null,
   "metadata": {},
   "outputs": [],
   "source": [
    "W.shape"
   ]
  },
  {
   "cell_type": "code",
   "execution_count": null,
   "metadata": {},
   "outputs": [],
   "source": [
    "numpy.linalg.cond(W)"
   ]
  },
  {
   "cell_type": "code",
   "execution_count": null,
   "metadata": {},
   "outputs": [],
   "source": [
    "%time beta_ols = (R1.T * R1).I * R1.T * rho1"
   ]
  },
  {
   "cell_type": "code",
   "execution_count": null,
   "metadata": {},
   "outputs": [],
   "source": [
    "Path(tmpfolder + 'solutions').mkdir(parents=True, exist_ok=True)\n",
    "numpy.savetxt(tmpfolder + 'solutions/' + indentification_traj + '_beta_ols.dat', beta_ols)"
   ]
  },
  {
   "cell_type": "code",
   "execution_count": null,
   "metadata": {},
   "outputs": [],
   "source": [
    "rho2_norm_sqr = numpy.linalg.norm(omega - W * beta_ols)**2"
   ]
  },
  {
   "cell_type": "markdown",
   "metadata": {},
   "source": [
    "### Base Parameter Feasibility Test (BPFT) of OLS Solution"
   ]
  },
  {
   "cell_type": "code",
   "execution_count": null,
   "metadata": {},
   "outputs": [],
   "source": [
    "dict_subs = dict(zip(beta_symbs, numpy.asarray(beta_ols).flatten()))\n",
    "lmis_ols_bpft = [ lmi_sdp.LMI_PD(mrepl(lmi.canonical().gts, dict_subs)) for lmi in DB_LMIs ]"
   ]
  },
  {
   "cell_type": "code",
   "execution_count": null,
   "metadata": {},
   "outputs": [],
   "source": [
    "lmis_ols_bpft[0]"
   ]
  },
  {
   "cell_type": "code",
   "execution_count": null,
   "metadata": {},
   "outputs": [],
   "source": [
    "variables_ols_bpft = list(delta_d)\n",
    "objf_ols_bpft = 0  # no objective function - \"find\" problem"
   ]
  },
  {
   "cell_type": "markdown",
   "metadata": {},
   "source": [
    "Testing with all solvers\n",
    "\n",
    "**Just one of the following calls is sufficient to show feasibility/infeasibility**"
   ]
  },
  {
   "cell_type": "code",
   "execution_count": null,
   "metadata": {},
   "outputs": [],
   "source": [
    "Path(tmpfolder + 'sdpa_dat').mkdir(parents=True, exist_ok=True)"
   ]
  },
  {
   "cell_type": "code",
   "execution_count": null,
   "metadata": {},
   "outputs": [],
   "source": [
    "sol = sdpa_file(objf_ols_bpft, lmis_ols_bpft, variables_ols_bpft) # One can solve the output file at http://www.neos-server.org/neos/solvers/sdp:DSDP/SDPA.html for example."
   ]
  },
  {
   "cell_type": "code",
   "execution_count": null,
   "metadata": {},
   "outputs": [],
   "source": [
    "sol = dsdp5(objf_ols_bpft, lmis_ols_bpft, variables_ols_bpft)"
   ]
  },
  {
   "cell_type": "code",
   "execution_count": null,
   "metadata": {},
   "outputs": [],
   "source": [
    "sol = sdpa(objf_ols_bpft, lmis_ols_bpft, variables_ols_bpft)"
   ]
  },
  {
   "cell_type": "code",
   "execution_count": null,
   "metadata": {},
   "outputs": [],
   "source": [
    "sol = csdp(objf_ols_bpft, lmis_ols_bpft, variables_ols_bpft)"
   ]
  },
  {
   "cell_type": "code",
   "execution_count": null,
   "metadata": {
    "scrolled": true
   },
   "outputs": [],
   "source": [
    "sol = cvxopt_conelp(objf_ols_bpft, lmis_ols_bpft, variables_ols_bpft)"
   ]
  },
  {
   "cell_type": "code",
   "execution_count": null,
   "metadata": {},
   "outputs": [],
   "source": [
    "sol = cvxopt_dsdp5(objf_ols_bpft, lmis_ols_bpft, variables_ols_bpft)"
   ]
  },
  {
   "cell_type": "markdown",
   "metadata": {},
   "source": [
    "## Base Parameter Feasibility Correction (BPFC)     ($\\beta^\\prime$)"
   ]
  },
  {
   "cell_type": "code",
   "execution_count": null,
   "metadata": {},
   "outputs": [],
   "source": [
    "u = sympy.Symbol('u')\n",
    "U_beta = BlockMatrix([[Matrix([u]),            (beta_ols - beta_symbs).T],\n",
    "                      [beta_ols - beta_symbs,                 I(n_beta)]])\n",
    "U_beta = U_beta.as_explicit()"
   ]
  },
  {
   "cell_type": "code",
   "execution_count": null,
   "metadata": {},
   "outputs": [],
   "source": [
    "lmis_ols_bpfc = [LMI(U_beta)] + DB_LMIs_marg"
   ]
  },
  {
   "cell_type": "code",
   "execution_count": null,
   "metadata": {},
   "outputs": [],
   "source": [
    "lmis_ols_bpfc[1]"
   ]
  },
  {
   "cell_type": "code",
   "execution_count": null,
   "metadata": {},
   "outputs": [],
   "source": [
    "variables_ols_bpfc = [u] + list(beta_symbs) + list(delta_d)"
   ]
  },
  {
   "cell_type": "code",
   "execution_count": null,
   "metadata": {},
   "outputs": [],
   "source": [
    "objf_ols_bpfc = u"
   ]
  },
  {
   "cell_type": "code",
   "execution_count": null,
   "metadata": {},
   "outputs": [],
   "source": [
    "sol_ols_bpfc = solve_sdp(objf_ols_bpfc, lmis_ols_bpfc, variables_ols_bpfc)"
   ]
  },
  {
   "cell_type": "code",
   "execution_count": null,
   "metadata": {},
   "outputs": [],
   "source": [
    "u_prime = sol_ols_bpfc[0,0]\n",
    "beta_prime = sol_ols_bpfc[1:1+n_beta]\n",
    "delta_d_prime = sol_ols_bpfc[1+n_beta:]"
   ]
  },
  {
   "cell_type": "code",
   "execution_count": null,
   "metadata": {},
   "outputs": [],
   "source": [
    "u_prime"
   ]
  },
  {
   "cell_type": "markdown",
   "metadata": {},
   "source": [
    "### Solution Double Check"
   ]
  },
  {
   "cell_type": "code",
   "execution_count": null,
   "metadata": {},
   "outputs": [],
   "source": [
    "dict_subs = dict(zip(beta_symbs, beta_prime.flatten().tolist()[0]))\n",
    "dict_subs.update(dict(zip(delta_d, delta_d_prime.flatten().tolist()[0])))\n",
    "\n",
    "test = 'ok'\n",
    "for i, DBi in enumerate(DB_blocks):\n",
    "        m = numpy.matrix(mrepl(DBi, dict_subs)).astype(float)\n",
    "        for v in numpy.linalg.eigvals( m ):\n",
    "            if v <= 0.0:\n",
    "                print(i, v)\n",
    "                test = 'fail'\n",
    "print(test)"
   ]
  },
  {
   "cell_type": "code",
   "execution_count": null,
   "metadata": {},
   "outputs": [],
   "source": [
    "Path(tmpfolder + 'solutions').mkdir(parents=True, exist_ok=True)\n",
    "numpy.savetxt(tmpfolder + 'solutions/' + indentification_traj + '_beta_prime.dat', beta_prime)"
   ]
  },
  {
   "cell_type": "markdown",
   "metadata": {},
   "source": [
    "## Feasible Base Parameter Estimation with Ordinary Least Squares (FBPE-OLS)     ($\\beta^\\star$)"
   ]
  },
  {
   "cell_type": "code",
   "execution_count": null,
   "metadata": {},
   "outputs": [],
   "source": [
    "u = sympy.Symbol('u')\n",
    "U_rho = BlockMatrix([[Matrix([u - rho2_norm_sqr]), (rho1 - R1*beta_symbs).T],\n",
    "                     [rho1 - R1*beta_symbs,                       I(n_beta)]])\n",
    "U_rho = U_rho.as_explicit()"
   ]
  },
  {
   "cell_type": "code",
   "execution_count": null,
   "metadata": {},
   "outputs": [],
   "source": [
    "lmis_fbpe_ols = [LMI(U_rho)] + DB_LMIs_marg"
   ]
  },
  {
   "cell_type": "code",
   "execution_count": null,
   "metadata": {},
   "outputs": [],
   "source": [
    "variables_fbpe_ols = [u] + list(beta_symbs) + list(delta_d)"
   ]
  },
  {
   "cell_type": "code",
   "execution_count": null,
   "metadata": {},
   "outputs": [],
   "source": [
    "objf_fbpe_ols = u"
   ]
  },
  {
   "cell_type": "code",
   "execution_count": null,
   "metadata": {},
   "outputs": [],
   "source": [
    "sol_fbpe_ols = solve_sdp(objf_fbpe_ols, lmis_fbpe_ols, variables_fbpe_ols)"
   ]
  },
  {
   "cell_type": "code",
   "execution_count": null,
   "metadata": {},
   "outputs": [],
   "source": [
    "u_star = sol_fbpe_ols[0,0]\n",
    "beta_star = numpy.matrix(sol_fbpe_ols[1:1+n_beta])\n",
    "delta_d_star = numpy.matrix(sol_fbpe_ols[1+n_beta:])"
   ]
  },
  {
   "cell_type": "code",
   "execution_count": null,
   "metadata": {},
   "outputs": [],
   "source": [
    "u_star"
   ]
  },
  {
   "cell_type": "markdown",
   "metadata": {},
   "source": [
    "### Solution Double Check"
   ]
  },
  {
   "cell_type": "code",
   "execution_count": null,
   "metadata": {},
   "outputs": [],
   "source": [
    "dict_subs = dict(zip(beta_symbs, beta_star.flatten().tolist()[0]))\n",
    "dict_subs.update(dict(zip(delta_d, delta_d_star.flatten().tolist()[0])))\n",
    "\n",
    "test = 'ok'\n",
    "for DBi in DB_blocks:\n",
    "        m = numpy.matrix(mrepl(DBi, dict_subs)).astype(float)\n",
    "        for v in numpy.linalg.eigvals( m ):\n",
    "            if v <= 0.0:\n",
    "                print(v)\n",
    "                test = 'fail'\n",
    "print(test)"
   ]
  },
  {
   "cell_type": "code",
   "execution_count": null,
   "metadata": {},
   "outputs": [],
   "source": [
    "Path(tmpfolder + 'solutions').mkdir(parents=True, exist_ok=True)\n",
    "numpy.savetxt(tmpfolder + 'solutions/' + indentification_traj + '_beta_star.dat', beta_star)"
   ]
  },
  {
   "cell_type": "markdown",
   "metadata": {},
   "source": [
    "## Additional Constraints on Centers-of-Mass    ($\\beta^{\\star e}$)"
   ]
  },
  {
   "cell_type": "code",
   "execution_count": null,
   "metadata": {},
   "outputs": [],
   "source": [
    "link_cuboid_hulls = [\n",
    "[[ -0.140 , +0.140 ],[ -0.174 , +0.174 ],[ -0.084 , +0.346 ]],\n",
    "[[ -0.084 , +0.084 ],[ -0.174 , +0.174 ],[ -0.084 , +0.170 ]],\n",
    "[[ -0.090 , +0.040 ],[ -0.550 , +0.040 ],[ -0.045 , +0.045 ]],\n",
    "[[ -0.045 , +0.095 ],[ -0.045 , +0.045 ],[ -0.050 , +0.830 ]],\n",
    "[[ -0.045 , +0.045 ],[ -0.020 , +0.100 ],[ -0.045 , +0.045 ]],\n",
    "[[ -0.045 , +0.045 ],[ -0.060 , +0.045 ],[ -0.020 , +0.060 ]],\n",
    "[[ -0.045 , +0.045 ],[ -0.045 , +0.045 ],[ -0.018 , +0.001 ]],\n",
    "]\n",
    "\n",
    "robotmaxmass = 27.0"
   ]
  },
  {
   "cell_type": "markdown",
   "metadata": {},
   "source": [
    "#### LMI Matrix Definition"
   ]
  },
  {
   "cell_type": "code",
   "execution_count": null,
   "metadata": {},
   "outputs": [],
   "source": [
    "D_add_blocks = []\n",
    "for i in range(rbt.dof):\n",
    "    l = rbt.rbtdef.l[i]\n",
    "    m = rbt.rbtdef.m[i]\n",
    "    link_cuboid_hull = link_cuboid_hulls[i]\n",
    "    for j in range(3):\n",
    "        D_add_blocks.append( Matrix( [[  l[j] - m*link_cuboid_hull[j][0] ]] ) )\n",
    "        D_add_blocks.append( Matrix( [[ -l[j] + m*link_cuboid_hull[j][1] ]] ) )\n",
    "\n",
    "D_add_blocks.append(Matrix([robotmaxmass - sum(rbt.rbtdef.m)]))"
   ]
  },
  {
   "cell_type": "markdown",
   "metadata": {},
   "source": [
    "#### Variable Change and LMI Definition"
   ]
  },
  {
   "cell_type": "code",
   "execution_count": null,
   "metadata": {},
   "outputs": [],
   "source": [
    "DB_add_blocks = [ mrepl(Di, varchange_dict) for Di in D_add_blocks ]"
   ]
  },
  {
   "cell_type": "code",
   "execution_count": null,
   "metadata": {},
   "outputs": [],
   "source": [
    "DB_add_LMIs = list(map(LMI_PD, DB_add_blocks))"
   ]
  },
  {
   "cell_type": "code",
   "execution_count": null,
   "metadata": {},
   "outputs": [],
   "source": [
    "DB_add_LMIs_marg = list(map(lambda lm: LMI(lm, epsilon_safemargin*eye(lm.shape[0])) , DB_add_blocks))"
   ]
  },
  {
   "cell_type": "code",
   "execution_count": null,
   "metadata": {},
   "outputs": [],
   "source": [
    "DB_add_LMIs_marg[0]"
   ]
  },
  {
   "cell_type": "code",
   "execution_count": null,
   "metadata": {},
   "outputs": [],
   "source": [
    "DB_add_LMIs_marg[-1]"
   ]
  },
  {
   "cell_type": "markdown",
   "metadata": {},
   "source": [
    "### Testing $\\beta^\\star$ solution on new constraints"
   ]
  },
  {
   "cell_type": "code",
   "execution_count": null,
   "metadata": {},
   "outputs": [],
   "source": [
    "dict_subs = dict(zip(beta_symbs, numpy.asarray(beta_star).flatten()))\n",
    "lmis_star_bpft_add = [ lmi_sdp.LMI_PD(mrepl(lmi.canonical().gts, dict_subs)) for lmi in DB_add_LMIs_marg ]\n",
    "variables_star_bpft_add = list(delta_d)\n",
    "objf_star_bpft_add = delta_d[0]"
   ]
  },
  {
   "cell_type": "code",
   "execution_count": null,
   "metadata": {},
   "outputs": [],
   "source": [
    "sol_star_bpft_add = solve_sdp(objf_star_bpft_add, lmis_star_bpft_add, variables_star_bpft_add)"
   ]
  },
  {
   "cell_type": "markdown",
   "metadata": {},
   "source": [
    "### Finding new solution"
   ]
  },
  {
   "cell_type": "code",
   "execution_count": null,
   "metadata": {},
   "outputs": [],
   "source": [
    "lmis_fbpe_ols_add = [LMI(U_rho)] + DB_LMIs_marg + DB_add_LMIs_marg"
   ]
  },
  {
   "cell_type": "code",
   "execution_count": null,
   "metadata": {},
   "outputs": [],
   "source": [
    "variables_fbpe_ols_add = [u] + list(beta_symbs) + list(delta_d)"
   ]
  },
  {
   "cell_type": "code",
   "execution_count": null,
   "metadata": {},
   "outputs": [],
   "source": [
    "objf_fbpe_ols_add = u"
   ]
  },
  {
   "cell_type": "code",
   "execution_count": null,
   "metadata": {},
   "outputs": [],
   "source": [
    "sol_fbpe_ols_add = solve_sdp(objf_fbpe_ols_add, lmis_fbpe_ols_add, variables_fbpe_ols_add)"
   ]
  },
  {
   "cell_type": "code",
   "execution_count": null,
   "metadata": {},
   "outputs": [],
   "source": [
    "u_starextra = sol_fbpe_ols_add[0,0]\n",
    "beta_starextra = numpy.matrix(sol_fbpe_ols_add[1:1+n_beta])\n",
    "delta_d_starextra = numpy.matrix(sol_fbpe_ols_add[1+n_beta:])"
   ]
  },
  {
   "cell_type": "code",
   "execution_count": null,
   "metadata": {},
   "outputs": [],
   "source": [
    "u_starextra"
   ]
  },
  {
   "cell_type": "markdown",
   "metadata": {},
   "source": [
    "### Solution Double Check"
   ]
  },
  {
   "cell_type": "code",
   "execution_count": null,
   "metadata": {},
   "outputs": [],
   "source": [
    "dict_subs = dict(zip(beta_symbs, beta_starextra.flatten().tolist()[0]))\n",
    "dict_subs.update(dict(zip(delta_d, delta_d_starextra.flatten().tolist()[0])))\n",
    "\n",
    "test = 'ok'\n",
    "for DBi in (DB_blocks + DB_add_blocks):\n",
    "        m = numpy.matrix(mrepl(DBi, dict_subs)).astype(float)\n",
    "        for v in numpy.linalg.eigvals( m ):\n",
    "            if v <= 0.0: test = 'fail'\n",
    "print(test)"
   ]
  },
  {
   "cell_type": "code",
   "execution_count": null,
   "metadata": {},
   "outputs": [],
   "source": [
    "Path(tmpfolder + 'solutions').mkdir(parents=True, exist_ok=True)\n",
    "numpy.savetxt(tmpfolder + 'solutions/' + indentification_traj + '_beta_starextra.dat', beta_starextra)"
   ]
  },
  {
   "cell_type": "markdown",
   "metadata": {},
   "source": [
    "### Inertia Matrix Definiteness Tests"
   ]
  },
  {
   "cell_type": "code",
   "execution_count": null,
   "metadata": {},
   "outputs": [],
   "source": [
    "def test_mass_matrix_psd(beta_solution):\n",
    "    K = rbt.dyn.Pb.T + rbt.dyn.Kd * rbt.dyn.Pd.T\n",
    "    A = numpy.matrix(K).astype(float)\n",
    "    b = numpy.matrix(beta_solution).astype(float)\n",
    "    x = numpy.linalg.pinv(A) * b\n",
    "    d_test = x\n",
    "    \n",
    "    M_func_def = sympybotics.robotcodegen.robot_code_to_func( 'python', rbt.M_code, 'M', 'M_func', rbt.rbtdef)\n",
    "    exec(M_func_def, globals())\n",
    "    global sin, cos\n",
    "    from math import sin, cos\n",
    "    \n",
    "    ntests = 10000\n",
    "    \n",
    "    ok = 0\n",
    "    nok = 0\n",
    "    for i in range(ntests):\n",
    "        q_test = numpy.random.rand(rbt.dof)\n",
    "        M_out = M_func( numpy.array(d_test).flatten().tolist(), q_test)\n",
    "        M = numpy.matrix(M_out).reshape((rbt.dof,rbt.dof))\n",
    "        try:\n",
    "            c = numpy.linalg.cholesky(M)\n",
    "        except:\n",
    "            nok += 1\n",
    "            continue\n",
    "        ok += 1\n",
    "        \n",
    "    print('ok     %8i  %3i%%'%(ok, 100.0*ok/ntests))\n",
    "    print('not ok %8i  %3i%%'%(nok, 100.0*nok/ntests))\n",
    "    if nok > 0 :\n",
    "        print('\\nNot PSD -> Not feasible!')\n",
    "    else:\n",
    "        print('\\nSeems feasible.')"
   ]
  },
  {
   "cell_type": "code",
   "execution_count": null,
   "metadata": {},
   "outputs": [],
   "source": [
    "beta_ols = numpy.matrix(numpy.loadtxt(tmpfolder + 'solutions/traj1_beta_ols.dat')).T\n",
    "test_mass_matrix_psd(beta_ols)"
   ]
  },
  {
   "cell_type": "code",
   "execution_count": null,
   "metadata": {},
   "outputs": [],
   "source": [
    "beta_starextra = numpy.matrix(numpy.loadtxt(tmpfolder + 'solutions/traj1_beta_starextra.dat')).T\n",
    "test_mass_matrix_psd(beta_starextra)"
   ]
  },
  {
   "cell_type": "markdown",
   "metadata": {},
   "source": [
    "5 - Regression Model Validation\n",
    "===================================================="
   ]
  },
  {
   "cell_type": "code",
   "execution_count": null,
   "metadata": {},
   "outputs": [],
   "source": [
    "import numpy as np\n",
    "import sympybotics\n",
    "import pickle\n",
    "\n",
    "from collections import OrderedDict\n",
    "from support_funcs.utils import ListTable"
   ]
  },
  {
   "cell_type": "code",
   "execution_count": null,
   "metadata": {},
   "outputs": [],
   "source": [
    "with open(tmpfolder +  'robotmodels/wam7_model.pkl', 'rb' ) as file:\n",
    "          rbt = pickle.load( file )"
   ]
  },
  {
   "cell_type": "code",
   "execution_count": null,
   "metadata": {},
   "outputs": [],
   "source": [
    "def analyse(W, omega, R1, beta):\n",
    "    from numpy import matrix, mean\n",
    "    from numpy.linalg import cond, norm\n",
    "    \n",
    "    p = dict()\n",
    "    \n",
    "    n = W.shape[0]\n",
    "    \n",
    "    omega_norm = norm(omega)\n",
    "    omega_mean = mean(omega)\n",
    "    \n",
    "    p['err'] = norm(omega - W * beta)\n",
    "    p['merr'] = p['err'] / n\n",
    "    \n",
    "    p['se'] = p['err']**2\n",
    "    p['mse'] = p['se']/(n-W.shape[1])\n",
    "    p['rmse'] = p['mse']**0.5\n",
    "    \n",
    "    C = p['mse'] * (R1.T * R1).I\n",
    "    p['sd'] = np.sqrt(C.diagonal()).T\n",
    "    p['sd%'] = 100. * p['sd'] / np.abs(beta)\n",
    "    \n",
    "    p['relerr'] = p['err']/ omega_norm\n",
    "    p['relerr%'] = p['relerr']*100.\n",
    "    \n",
    "    p['1-r2'] = p['err']**2 / norm(omega - omega_mean)**2\n",
    "    p['r2'] = 1 - p['1-r2']\n",
    "\n",
    "    return p\n",
    "    "
   ]
  },
  {
   "cell_type": "code",
   "execution_count": null,
   "metadata": {},
   "outputs": [],
   "source": [
    "trajs = OrderedDict([('id', 'traj1'),\n",
    "                     ('vA', 'traj2'),\n",
    "                     ('vB', 'traj3'),\n",
    "                     ('vC', 'traj4')])\n",
    "\n",
    "\n",
    "betas = OrderedDict([('beta_ols', 'B^'),\n",
    "                     ('beta_prime', 'B\\''),\n",
    "                     ('beta_star', 'B*'),\n",
    "                     ('beta_starextra', 'B*e')])"
   ]
  },
  {
   "cell_type": "code",
   "execution_count": null,
   "metadata": {},
   "outputs": [],
   "source": [
    "solutions_beta = {betaname:np.matrix(np.loadtxt(tmpfolder + 'solutions/%s_%s.dat'%(trajs['id'], betaname))).T for betaname in betas}"
   ]
  },
  {
   "cell_type": "code",
   "execution_count": null,
   "metadata": {},
   "outputs": [],
   "source": [
    "analysis = dict()\n",
    "\n",
    "for traj in trajs:\n",
    "    from numpy.linalg import cond\n",
    "    \n",
    "    print(traj)\n",
    "    \n",
    "    analysis[traj] = dict()\n",
    "    \n",
    "    regr_mats = np.load(tmpfolder + 'procdata/' + trajs[traj] + '_regr.npz')\n",
    "    W = np.matrix(regr_mats['W'])\n",
    "    omega = np.matrix(regr_mats['omega'])\n",
    "    R1 = np.matrix(regr_mats['R1'])\n",
    "    \n",
    "    analysis[traj]['cond'] = cond(W)\n",
    "    \n",
    "    analysis[traj]['betas'] = dict()\n",
    "    \n",
    "    for betaname in betas:\n",
    "        beta = solutions_beta[betaname]\n",
    "        analysis[traj]['betas'][betaname] = analyse(W, omega, R1, beta)\n",
    "    \n",
    "    del W, omega, R1"
   ]
  },
  {
   "cell_type": "code",
   "execution_count": null,
   "metadata": {},
   "outputs": [],
   "source": [
    "prop = lambda x: x['relerr%']\n",
    "form = '%.2f'\n",
    "\n",
    "table = ListTable()\n",
    "table.append(['','cond']+list(betas.values()))\n",
    "for (traj, trajname) in zip(trajs, ['identification', 'validation A', 'validation B', 'validation C']):\n",
    "    row = [traj] + ['%.0f'%analysis[traj]['cond']] + [ form%prop(analysis[traj]['betas'][b]) for b in betas]\n",
    "    table.append(row)\n",
    "table"
   ]
  },
  {
   "cell_type": "code",
   "execution_count": null,
   "metadata": {},
   "outputs": [],
   "source": [
    "import yaml, sympy\n",
    "with open(datafolder + 'robotparams/wam7_cad.yml', 'r') as f:\n",
    "    wam7_cad = yaml.safe_load(f)\n",
    "delta_cad = sympy.Matrix([wam7_cad.get(str(d), d) for d in rbt.dyn.dynparms])\n",
    "beta_cad = (rbt.dyn.Pb.T + rbt.dyn.Kd * rbt.dyn.Pd.T) * delta_cad"
   ]
  },
  {
   "cell_type": "code",
   "execution_count": null,
   "metadata": {},
   "outputs": [],
   "source": [
    "form = '%.4g'\n",
    "\n",
    "import sympy\n",
    "\n",
    "table = ListTable()\n",
    "header = ['', 'Bcad', 'B^', '% std dev B^', 'B*e']\n",
    "table.append(header)\n",
    "for i, b in enumerate(rbt.dyn.baseparms):\n",
    "    if beta_cad[i].is_Number:\n",
    "        cad_v = sympy.N(beta_cad[i], 4)\n",
    "    elif beta_cad[i].is_Symbol:\n",
    "        cad_v = '---'\n",
    "    else:\n",
    "        cad_v = sympy.N(beta_cad[i], 4)\n",
    "    row = ['%.7s ...'%b if len(str(b)) > 7 else str(b), cad_v]\n",
    "    row += [form%solutions_beta['beta_ols'][i,0], '%.2g'%analysis['id']['betas']['beta_ols']['sd%'][i,0]]\n",
    "    row += [form%solutions_beta['beta_starextra'][i,0]]\n",
    "    table.append(row)\n",
    "table"
   ]
  },
  {
   "cell_type": "markdown",
   "metadata": {},
   "source": [
    "## Torque Plot"
   ]
  },
  {
   "cell_type": "code",
   "execution_count": null,
   "metadata": {},
   "outputs": [],
   "source": [
    "traj = 'vA'\n",
    "betaname = 'beta_starextra'"
   ]
  },
  {
   "cell_type": "code",
   "execution_count": null,
   "metadata": {},
   "outputs": [],
   "source": [
    "regr_mats = np.load(tmpfolder + 'procdata/' + trajs[traj] + '_regr.npz')\n",
    "W = np.matrix(regr_mats['W'])\n",
    "omega = np.matrix(regr_mats['omega'])\n",
    "\n",
    "regr_mats = np.load(tmpfolder + 'procdata/' + trajs[traj] + '_proc.npz')\n",
    "t = regr_mats['t']\n",
    "tau_proc = np.matrix(regr_mats['tau'])\n",
    "\n",
    "regr_mats = np.load(tmpfolder + 'procdata/' + trajs[traj] + '_raw.npz')\n",
    "tau_raw = np.matrix(regr_mats['tau'])"
   ]
  },
  {
   "cell_type": "code",
   "execution_count": null,
   "metadata": {},
   "outputs": [],
   "source": [
    "beta_solution = np.matrix(np.loadtxt(tmpfolder + 'solutions/%s_%s.dat'%(trajs['id'], betaname))).T"
   ]
  },
  {
   "cell_type": "code",
   "execution_count": null,
   "metadata": {},
   "outputs": [],
   "source": [
    "tau = tau_raw"
   ]
  },
  {
   "cell_type": "code",
   "execution_count": null,
   "metadata": {},
   "outputs": [],
   "source": [
    "omega_pred = W * beta_solution\n",
    "tau_pred = omega_pred.reshape( round(omega_pred.shape[0]/tau.shape[1]), tau.shape[1] )\n",
    "err_pred = tau - tau_pred"
   ]
  },
  {
   "cell_type": "code",
   "execution_count": null,
   "metadata": {},
   "outputs": [],
   "source": [
    "joint = 7\n",
    "firsts = 20000\n",
    "s=tau_raw.shape[0]"
   ]
  },
  {
   "cell_type": "code",
   "execution_count": null,
   "metadata": {},
   "outputs": [],
   "source": [
    "from matplotlib import pyplot as plt\n",
    "plt.close()\n",
    "\n",
    "plt.figure(figsize=(12,8))\n",
    "\n",
    "axes = []\n",
    "for i in range(tau.shape[1]):\n",
    "    ax = plt.subplot(3, 3, i+1)\n",
    "    ax.plot(t[:firsts],tau_raw[:,i][:firsts], label=\"Measured torque\")\n",
    "    ax.plot(t[:firsts],tau_pred[:,i][:firsts], label=\"Estimated torque\")\n",
    "    ax.plot(t[:firsts],err_pred[:,i][:firsts], label=\"Error\")\n",
    "    ax.set_title( \"Joint %d\"%(i+1) )\n",
    "    plt.xlabel(\"Time (s)\")\n",
    "    plt.ylabel(\"Torque (Nm)\")\n",
    "    axes.append(ax)\n",
    "\n",
    "\n",
    "plt.tight_layout()\n",
    "plt.legend(loc='upper left', bbox_to_anchor=(1.2, 1))\n",
    "\n",
    "plt.show()"
   ]
  },
  {
   "cell_type": "markdown",
   "metadata": {},
   "source": [
    "---------------------------\n",
    "\n",
    "---------------------------\n",
    "\n",
    "---------------------------\n",
    "\n",
    "---------------------------\n",
    "\n",
    "---------------------------\n",
    "\n",
    "---------------------------\n",
    "\n",
    "---------------------------\n",
    "\n",
    "---------------------------\n",
    "\n",
    "---------------------------\n",
    "\n",
    "### (generate readme and notebook preview)"
   ]
  },
  {
   "cell_type": "code",
   "execution_count": null,
   "metadata": {},
   "outputs": [],
   "source": [
    "def save_files(): \n",
    "    from IPython.display import display, Javascript\n",
    "    Javascript('IPython.notebook.save_notebook()')\n",
    "    \n",
    "    import json\n",
    "    with open('WAM7 Dynamic Parameter Identification.ipynb', 'r') as f:\n",
    "        d = json.load(f)\n",
    "    with open('README.md', 'w') as f:\n",
    "        f.write(''.join(d['worksheets'][0]['cells'][0]['source']).encode('UTF-8'))\n",
    "    \n",
    "    !ipython nbconvert \"WAM7 Dynamic Parameter Identification.ipynb\" --to html"
   ]
  },
  {
   "cell_type": "code",
   "execution_count": null,
   "metadata": {},
   "outputs": [],
   "source": [
    "#save_files()"
   ]
  },
  {
   "cell_type": "code",
   "execution_count": null,
   "metadata": {},
   "outputs": [],
   "source": [
    "#!git status"
   ]
  },
  {
   "cell_type": "code",
   "execution_count": null,
   "metadata": {},
   "outputs": [],
   "source": [
    "#!git commit -a -m \"Add automathic README.md file generator\""
   ]
  },
  {
   "cell_type": "code",
   "execution_count": null,
   "metadata": {},
   "outputs": [],
   "source": [
    "#!git push"
   ]
  },
  {
   "cell_type": "markdown",
   "metadata": {},
   "source": [
    "## Equivalent full dynamics parameters"
   ]
  },
  {
   "cell_type": "code",
   "execution_count": null,
   "metadata": {},
   "outputs": [],
   "source": [
    "Pb = numpy.matrix(rbt.dyn.Pb).astype(float)\n",
    "Pd = numpy.matrix(rbt.dyn.Pd).astype(float)\n",
    "Kd = numpy.matrix(rbt.dyn.Kd).astype(float)\n",
    "\n",
    "beta_delta_d = numpy.concatenate((beta_starextra, delta_d_starextra), axis=0)\n",
    "\n",
    "# second line of Eq (49) needs to be K_G^-1 (instead of G_K^-1) and the experession for that with -K_d does not hold (numerically tested)\n",
    "P = numpy.concatenate((Pb, Pd), axis=1)\n",
    "K_G = numpy.block([[numpy.eye(n_beta), Kd],\n",
    "                   [numpy.zeros((n_delta_d, n_beta)), numpy.eye(n_delta_d)]])\n",
    "\n",
    "delta = (K_G*P.T).I*beta_delta_d"
   ]
  },
  {
   "cell_type": "code",
   "execution_count": null,
   "metadata": {},
   "outputs": [],
   "source": [
    "delta = delta.flatten().tolist()[0]\n",
    "dict(zip(rbt.rbtdef.dynparms(), delta))"
   ]
  },
  {
   "cell_type": "markdown",
   "metadata": {},
   "source": [
    "# TMECH Extension\n",
    "C. D. Sousa and R. Cortesão, \"Inertia Tensor Properties in Robot Dynamics Identification: A Linear Matrix Inequality Approach,\" in IEEE/ASME Transactions on Mechatronics, vol. 24, no. 1, pp. 406-411, Feb. 2019, doi: [10.1109/TMECH.2019.2891177](http://dx.doi.org/10.1109/TMECH.2019.2891177)."
   ]
  },
  {
   "cell_type": "markdown",
   "metadata": {},
   "source": [
    "#### LMI Matrix Definition for Triangle Inequalities"
   ]
  },
  {
   "cell_type": "code",
   "execution_count": null,
   "metadata": {},
   "outputs": [],
   "source": [
    "from sympy import Trace\n",
    "\n",
    "D_triangle_blocks = []\n",
    "for i in range(rbt.dof):\n",
    "    l = rbt.rbtdef.l[i]\n",
    "    m = rbt.rbtdef.m[i]\n",
    "    L = rbt.rbtdef.L[i]\n",
    "    Di = BlockMatrix([[Trace(L)*I(3)/2 - L,      l],\n",
    "                      [l.T,                 I(1)*m]])\n",
    "    D_triangle_blocks.append(Di.simplify().as_explicit())"
   ]
  },
  {
   "cell_type": "code",
   "execution_count": null,
   "metadata": {},
   "outputs": [],
   "source": [
    "D_triangle_blocks[0]"
   ]
  },
  {
   "cell_type": "markdown",
   "metadata": {},
   "source": [
    "#### Variable Change and LMI Definition"
   ]
  },
  {
   "cell_type": "code",
   "execution_count": null,
   "metadata": {},
   "outputs": [],
   "source": [
    "DB_triangle_blocks = [ mrepl(Di, varchange_dict) for Di in D_triangle_blocks ]"
   ]
  },
  {
   "cell_type": "code",
   "execution_count": null,
   "metadata": {},
   "outputs": [],
   "source": [
    "DB_triangle_LMIs = list(map(LMI_PD, DB_triangle_blocks))"
   ]
  },
  {
   "cell_type": "code",
   "execution_count": null,
   "metadata": {},
   "outputs": [],
   "source": [
    "DB_triangle_LMIs_marg = list(map(lambda lm: LMI(lm, epsilon_safemargin*eye(lm.shape[0])) , DB_triangle_blocks))"
   ]
  },
  {
   "cell_type": "code",
   "execution_count": null,
   "metadata": {},
   "outputs": [],
   "source": [
    "DB_triangle_LMIs_marg[0]"
   ]
  },
  {
   "cell_type": "markdown",
   "metadata": {},
   "source": [
    "### Finding new solution"
   ]
  },
  {
   "cell_type": "code",
   "execution_count": null,
   "metadata": {},
   "outputs": [],
   "source": [
    "lmis_fbpe_ols_triangle = [LMI(U_rho)] + DB_LMIs_marg + DB_add_LMIs_marg + DB_triangle_LMIs_marg"
   ]
  },
  {
   "cell_type": "code",
   "execution_count": null,
   "metadata": {},
   "outputs": [],
   "source": [
    "variables_fbpe_ols_triangle = [u] + list(beta_symbs) + list(delta_d)"
   ]
  },
  {
   "cell_type": "code",
   "execution_count": null,
   "metadata": {},
   "outputs": [],
   "source": [
    "objf_fbpe_ols_triangle = u"
   ]
  },
  {
   "cell_type": "code",
   "execution_count": null,
   "metadata": {},
   "outputs": [],
   "source": [
    "sol_fbpe_ols_triangle= solve_sdp(objf_fbpe_ols_triangle, lmis_fbpe_ols_triangle, variables_fbpe_ols_triangle)"
   ]
  },
  {
   "cell_type": "code",
   "execution_count": null,
   "metadata": {},
   "outputs": [],
   "source": [
    "u_triangle = sol_fbpe_ols_triangle[0,0]\n",
    "beta_triangle = numpy.matrix(sol_fbpe_ols_triangle[1:1+n_beta])\n",
    "delta_d_triangle = numpy.matrix(sol_fbpe_ols_triangle[1+n_beta:])"
   ]
  },
  {
   "cell_type": "code",
   "execution_count": null,
   "metadata": {},
   "outputs": [],
   "source": [
    "u_triangle"
   ]
  },
  {
   "cell_type": "code",
   "execution_count": null,
   "metadata": {},
   "outputs": [],
   "source": [
    "form = '%.4g'\n",
    "\n",
    "import sympy\n",
    "\n",
    "table = ListTable()\n",
    "header = ['', 'Bcad', 'B^', '% std dev B^', 'B*e', 'B△e']\n",
    "table.append(header)\n",
    "for i, b in enumerate(rbt.dyn.baseparms):\n",
    "    if beta_cad[i].is_Number:\n",
    "        cad_v = sympy.N(beta_cad[i], 4)\n",
    "    elif beta_cad[i].is_Symbol:\n",
    "        cad_v = '---'\n",
    "    else:\n",
    "        cad_v = sympy.N(beta_cad[i], 4)\n",
    "    row = ['%.7s ...'%b if len(str(b)) > 7 else str(b), cad_v]\n",
    "    row += [form%solutions_beta['beta_ols'][i,0], '%.2g'%analysis['id']['betas']['beta_ols']['sd%'][i,0]]\n",
    "    row += [form%solutions_beta['beta_starextra'][i,0]]\n",
    "    row += [form%beta_triangle[i,0]]\n",
    "    table.append(row)\n",
    "table"
   ]
  },
  {
   "cell_type": "code",
   "execution_count": null,
   "metadata": {},
   "outputs": [],
   "source": []
  }
 ],
 "metadata": {
  "kernelspec": {
   "display_name": "py38",
   "language": "python",
   "name": "py38"
  },
  "language_info": {
   "codemirror_mode": {
    "name": "ipython",
    "version": 3
   },
   "file_extension": ".py",
   "mimetype": "text/x-python",
   "name": "python",
   "nbconvert_exporter": "python",
   "pygments_lexer": "ipython3",
   "version": "3.8.12"
  }
 },
 "nbformat": 4,
 "nbformat_minor": 1
}
